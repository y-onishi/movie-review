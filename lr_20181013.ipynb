{
 "cells": [
  {
   "cell_type": "markdown",
   "metadata": {},
   "source": [
    "## ロジスティック回帰で、データ学習"
   ]
  },
  {
   "cell_type": "markdown",
   "metadata": {},
   "source": [
    "検証対象事項\n",
    "- goodのデータとbadのデータの数をそろえることにより、どのような効果があるか確認する"
   ]
  },
  {
   "cell_type": "code",
   "execution_count": 1,
   "metadata": {},
   "outputs": [],
   "source": [
    "%matplotlib inline"
   ]
  },
  {
   "cell_type": "code",
   "execution_count": 3,
   "metadata": {},
   "outputs": [],
   "source": [
    "import MeCab\n",
    "\n",
    "m = MeCab.Tagger(\"-Owakati\")\n",
    "def tokenizer_mecab(sentence):\n",
    "    kekka = m.parse(sentence)\n",
    "    return kekka.split(\" \")\n",
    "\n",
    "#Mecabは学習のときにのみ使用\n",
    "#IPA辞書は入れているが、neologdは入れていない"
   ]
  },
  {
   "cell_type": "code",
   "execution_count": 4,
   "metadata": {},
   "outputs": [],
   "source": [
    "from janome.tokenizer import Tokenizer\n",
    "\n",
    "t = Tokenizer()\n",
    "def tokenizer_janome(sentence):\n",
    "    return t.tokenize(sentence, wakati = True)\n",
    "\n",
    "#pythonanywhereにMeCabインストール方法が分からなかったため、\n",
    "#性能評価とpythonanywhereにはこちらを使用"
   ]
  },
  {
   "cell_type": "code",
   "execution_count": 5,
   "metadata": {},
   "outputs": [],
   "source": [
    "import pandas as pd\n",
    "import numpy as np\n",
    "\n",
    "#csvファイルからデータ読み込み、加工\n",
    "review = pd.read_csv(\"data_20181013.csv\",names=('comment','star'))\n",
    "review = review[review['star'] != '-']\n",
    "review['star'] = review['star'].astype(np.float)"
   ]
  },
  {
   "cell_type": "code",
   "execution_count": 6,
   "metadata": {},
   "outputs": [
    {
     "data": {
      "text/html": [
       "<div>\n",
       "<style scoped>\n",
       "    .dataframe tbody tr th:only-of-type {\n",
       "        vertical-align: middle;\n",
       "    }\n",
       "\n",
       "    .dataframe tbody tr th {\n",
       "        vertical-align: top;\n",
       "    }\n",
       "\n",
       "    .dataframe thead th {\n",
       "        text-align: right;\n",
       "    }\n",
       "</style>\n",
       "<table border=\"1\" class=\"dataframe\">\n",
       "  <thead>\n",
       "    <tr style=\"text-align: right;\">\n",
       "      <th></th>\n",
       "      <th>star</th>\n",
       "    </tr>\n",
       "  </thead>\n",
       "  <tbody>\n",
       "    <tr>\n",
       "      <th>count</th>\n",
       "      <td>389608.000000</td>\n",
       "    </tr>\n",
       "    <tr>\n",
       "      <th>mean</th>\n",
       "      <td>3.784372</td>\n",
       "    </tr>\n",
       "    <tr>\n",
       "      <th>std</th>\n",
       "      <td>0.654459</td>\n",
       "    </tr>\n",
       "    <tr>\n",
       "      <th>min</th>\n",
       "      <td>1.000000</td>\n",
       "    </tr>\n",
       "    <tr>\n",
       "      <th>25%</th>\n",
       "      <td>3.500000</td>\n",
       "    </tr>\n",
       "    <tr>\n",
       "      <th>50%</th>\n",
       "      <td>3.800000</td>\n",
       "    </tr>\n",
       "    <tr>\n",
       "      <th>75%</th>\n",
       "      <td>4.200000</td>\n",
       "    </tr>\n",
       "    <tr>\n",
       "      <th>max</th>\n",
       "      <td>5.000000</td>\n",
       "    </tr>\n",
       "  </tbody>\n",
       "</table>\n",
       "</div>"
      ],
      "text/plain": [
       "                star\n",
       "count  389608.000000\n",
       "mean        3.784372\n",
       "std         0.654459\n",
       "min         1.000000\n",
       "25%         3.500000\n",
       "50%         3.800000\n",
       "75%         4.200000\n",
       "max         5.000000"
      ]
     },
     "execution_count": 6,
     "metadata": {},
     "output_type": "execute_result"
    }
   ],
   "source": [
    "review.describe()"
   ]
  },
  {
   "cell_type": "code",
   "execution_count": 7,
   "metadata": {},
   "outputs": [
    {
     "data": {
      "text/plain": [
       "<matplotlib.axes._subplots.AxesSubplot at 0x1195c005438>"
      ]
     },
     "execution_count": 7,
     "metadata": {},
     "output_type": "execute_result"
    },
    {
     "data": {
      "image/png": "[encoded data removed]",
      "text/plain": [
       "<Figure size 432x288 with 1 Axes>"
      ]
     },
     "metadata": {},
     "output_type": "display_data"
    }
   ],
   "source": [
    "review['star'].plot.hist(bins=39)"
   ]
  },
  {
   "cell_type": "markdown",
   "metadata": {},
   "source": [
    "実際にレビューを見て、星の数と良い評価・悪い評価の感覚を探る  \n",
    "2.9以下：大多数が悪い評価  \n",
    "3.0～3.5：いい評価・悪い評価がまざりあっている  \n",
    "3.6以上：大多数が良い評価  "
   ]
  },
  {
   "cell_type": "markdown",
   "metadata": {},
   "source": [
    "## <font color=\"Red\">badの件数が少ないため、goodの件数を4.6以上にしgoodの件数を減らすことで、件数をだいたい一致させる</font>"
   ]
  },
  {
   "cell_type": "code",
   "execution_count": 8,
   "metadata": {},
   "outputs": [],
   "source": [
    "#高評価or低評価のレビューのみ残す（上の分布を見て、良いとも悪いともつかない中間部分のデータは捨てる）\n",
    "review_sel1 = review[review['star'] < 3.0]\n",
    "#review_sel2 = review[review['star'] > 3.5]\n",
    "review_sel2 = review[review['star'] > 4.5]\n",
    "review_sel = pd.concat([review_sel1,review_sel2])\n",
    "review_sel['star'] = np.where(review_sel['star'] > 3.3, 1, 0)"
   ]
  },
  {
   "cell_type": "code",
   "execution_count": 9,
   "metadata": {},
   "outputs": [
    {
     "data": {
      "text/html": [
       "<div>\n",
       "<style scoped>\n",
       "    .dataframe tbody tr th:only-of-type {\n",
       "        vertical-align: middle;\n",
       "    }\n",
       "\n",
       "    .dataframe tbody tr th {\n",
       "        vertical-align: top;\n",
       "    }\n",
       "\n",
       "    .dataframe thead th {\n",
       "        text-align: right;\n",
       "    }\n",
       "</style>\n",
       "<table border=\"1\" class=\"dataframe\">\n",
       "  <thead>\n",
       "    <tr style=\"text-align: right;\">\n",
       "      <th></th>\n",
       "      <th>star</th>\n",
       "    </tr>\n",
       "  </thead>\n",
       "  <tbody>\n",
       "    <tr>\n",
       "      <th>count</th>\n",
       "      <td>66154.000000</td>\n",
       "    </tr>\n",
       "    <tr>\n",
       "      <th>mean</th>\n",
       "      <td>0.581386</td>\n",
       "    </tr>\n",
       "    <tr>\n",
       "      <th>std</th>\n",
       "      <td>0.493336</td>\n",
       "    </tr>\n",
       "    <tr>\n",
       "      <th>min</th>\n",
       "      <td>0.000000</td>\n",
       "    </tr>\n",
       "    <tr>\n",
       "      <th>25%</th>\n",
       "      <td>0.000000</td>\n",
       "    </tr>\n",
       "    <tr>\n",
       "      <th>50%</th>\n",
       "      <td>1.000000</td>\n",
       "    </tr>\n",
       "    <tr>\n",
       "      <th>75%</th>\n",
       "      <td>1.000000</td>\n",
       "    </tr>\n",
       "    <tr>\n",
       "      <th>max</th>\n",
       "      <td>1.000000</td>\n",
       "    </tr>\n",
       "  </tbody>\n",
       "</table>\n",
       "</div>"
      ],
      "text/plain": [
       "               star\n",
       "count  66154.000000\n",
       "mean       0.581386\n",
       "std        0.493336\n",
       "min        0.000000\n",
       "25%        0.000000\n",
       "50%        1.000000\n",
       "75%        1.000000\n",
       "max        1.000000"
      ]
     },
     "execution_count": 9,
     "metadata": {},
     "output_type": "execute_result"
    }
   ],
   "source": [
    "review_sel.describe()"
   ]
  },
  {
   "cell_type": "code",
   "execution_count": 10,
   "metadata": {},
   "outputs": [],
   "source": [
    "from sklearn.model_selection import train_test_split\n",
    "\n",
    "#訓練用とテスト用にデータを分ける\n",
    "X_train, X_test, y_train, y_test \\\n",
    "    = train_test_split(review_sel['comment'].values, review_sel['star'].values, \\\n",
    "    test_size=0.1, random_state=1, stratify=review_sel['star'])"
   ]
  },
  {
   "cell_type": "code",
   "execution_count": 11,
   "metadata": {},
   "outputs": [],
   "source": [
    "from sklearn.feature_extraction.text import  CountVectorizer, TfidfTransformer\n",
    "\n",
    "#ベクトルの準備\n",
    "count = CountVectorizer(tokenizer=tokenizer_mecab)\n",
    "tfidf = TfidfTransformer(use_idf=True, norm='l2', smooth_idf=True)"
   ]
  },
  {
   "cell_type": "code",
   "execution_count": 12,
   "metadata": {},
   "outputs": [],
   "source": [
    "from sklearn.linear_model import LogisticRegression\n",
    "lr = LogisticRegression(random_state=1)\n",
    "\n",
    "from sklearn.pipeline import Pipeline\n",
    "#パイプライン作成\n",
    "pipe_lr = Pipeline([('count', count), \\\n",
    "                     ('vect', tfidf), \\\n",
    "                     ('clf', lr)])"
   ]
  },
  {
   "cell_type": "code",
   "execution_count": 13,
   "metadata": {},
   "outputs": [
    {
     "data": {
      "text/plain": [
       "dict_keys(['memory', 'steps', 'count', 'vect', 'clf', 'count__analyzer', 'count__binary', 'count__decode_error', 'count__dtype', 'count__encoding', 'count__input', 'count__lowercase', 'count__max_df', 'count__max_features', 'count__min_df', 'count__ngram_range', 'count__preprocessor', 'count__stop_words', 'count__strip_accents', 'count__token_pattern', 'count__tokenizer', 'count__vocabulary', 'vect__norm', 'vect__smooth_idf', 'vect__sublinear_tf', 'vect__use_idf', 'clf__C', 'clf__class_weight', 'clf__dual', 'clf__fit_intercept', 'clf__intercept_scaling', 'clf__max_iter', 'clf__multi_class', 'clf__n_jobs', 'clf__penalty', 'clf__random_state', 'clf__solver', 'clf__tol', 'clf__verbose', 'clf__warm_start'])"
      ]
     },
     "execution_count": 13,
     "metadata": {},
     "output_type": "execute_result"
    }
   ],
   "source": [
    "#グリッドサーチのためにパラメータキー確認\n",
    "pipe_lr.get_params().keys()"
   ]
  },
  {
   "cell_type": "code",
   "execution_count": 15,
   "metadata": {},
   "outputs": [],
   "source": [
    "from sklearn.model_selection import GridSearchCV\n",
    "\n",
    "#グリッドサーチ作成\n",
    "#n_jobsに-1をセットすると、tokenizerについてcan t get attributエラーが出る\n",
    "param_grid = [{'clf__C':[0.1,1.0,10,100]}]\n",
    "gs = GridSearchCV(estimator=pipe_lr,\n",
    "                  param_grid=param_grid,return_train_score=True,\n",
    "                  scoring=None,\n",
    "                  cv=2)"
   ]
  },
  {
   "cell_type": "code",
   "execution_count": 16,
   "metadata": {},
   "outputs": [
    {
     "data": {
      "text/plain": [
       "GridSearchCV(cv=2, error_score='raise',\n",
       "       estimator=Pipeline(memory=None,\n",
       "     steps=[('count', CountVectorizer(analyzer='word', binary=False, decode_error='strict',\n",
       "        dtype=<class 'numpy.int64'>, encoding='utf-8', input='content',\n",
       "        lowercase=True, max_df=1.0, max_features=None, min_df=1,\n",
       "        ngram_range=(1, 1), preprocessor=None, stop_words=None,\n",
       "        stri...nalty='l2', random_state=1, solver='liblinear', tol=0.0001,\n",
       "          verbose=0, warm_start=False))]),\n",
       "       fit_params=None, iid=True, n_jobs=1,\n",
       "       param_grid=[{'clf__C': [0.1, 1.0, 10, 100]}],\n",
       "       pre_dispatch='2*n_jobs', refit=True, return_train_score=True,\n",
       "       scoring=None, verbose=0)"
      ]
     },
     "execution_count": 16,
     "metadata": {},
     "output_type": "execute_result"
    }
   ],
   "source": [
    "gs.fit(X_train, y_train)"
   ]
  },
  {
   "cell_type": "code",
   "execution_count": 17,
   "metadata": {},
   "outputs": [
    {
     "name": "stdout",
     "output_type": "stream",
     "text": [
      "0.855839967751688\n",
      "{'clf__C': 1.0}\n"
     ]
    }
   ],
   "source": [
    "print(gs.best_score_)\n",
    "print(gs.best_params_)"
   ]
  },
  {
   "cell_type": "code",
   "execution_count": 18,
   "metadata": {},
   "outputs": [
    {
     "data": {
      "text/html": [
       "<div>\n",
       "<style scoped>\n",
       "    .dataframe tbody tr th:only-of-type {\n",
       "        vertical-align: middle;\n",
       "    }\n",
       "\n",
       "    .dataframe tbody tr th {\n",
       "        vertical-align: top;\n",
       "    }\n",
       "\n",
       "    .dataframe thead th {\n",
       "        text-align: right;\n",
       "    }\n",
       "</style>\n",
       "<table border=\"1\" class=\"dataframe\">\n",
       "  <thead>\n",
       "    <tr style=\"text-align: right;\">\n",
       "      <th></th>\n",
       "      <th>0</th>\n",
       "      <th>1</th>\n",
       "      <th>2</th>\n",
       "      <th>3</th>\n",
       "    </tr>\n",
       "  </thead>\n",
       "  <tbody>\n",
       "    <tr>\n",
       "      <th>mean_fit_time</th>\n",
       "      <td>4.52723</td>\n",
       "      <td>4.7214</td>\n",
       "      <td>5.27817</td>\n",
       "      <td>6.23868</td>\n",
       "    </tr>\n",
       "    <tr>\n",
       "      <th>std_fit_time</th>\n",
       "      <td>0.0523281</td>\n",
       "      <td>0.0609918</td>\n",
       "      <td>0.160951</td>\n",
       "      <td>0.230143</td>\n",
       "    </tr>\n",
       "    <tr>\n",
       "      <th>mean_score_time</th>\n",
       "      <td>3.87599</td>\n",
       "      <td>4.32016</td>\n",
       "      <td>3.92311</td>\n",
       "      <td>3.7195</td>\n",
       "    </tr>\n",
       "    <tr>\n",
       "      <th>std_score_time</th>\n",
       "      <td>0.049351</td>\n",
       "      <td>0.0719167</td>\n",
       "      <td>0.118296</td>\n",
       "      <td>0.136401</td>\n",
       "    </tr>\n",
       "    <tr>\n",
       "      <th>param_clf__C</th>\n",
       "      <td>0.1</td>\n",
       "      <td>1</td>\n",
       "      <td>10</td>\n",
       "      <td>100</td>\n",
       "    </tr>\n",
       "    <tr>\n",
       "      <th>params</th>\n",
       "      <td>{'clf__C': 0.1}</td>\n",
       "      <td>{'clf__C': 1.0}</td>\n",
       "      <td>{'clf__C': 10}</td>\n",
       "      <td>{'clf__C': 100}</td>\n",
       "    </tr>\n",
       "    <tr>\n",
       "      <th>split0_test_score</th>\n",
       "      <td>0.822405</td>\n",
       "      <td>0.853342</td>\n",
       "      <td>0.852906</td>\n",
       "      <td>0.833121</td>\n",
       "    </tr>\n",
       "    <tr>\n",
       "      <th>split1_test_score</th>\n",
       "      <td>0.825887</td>\n",
       "      <td>0.858338</td>\n",
       "      <td>0.855684</td>\n",
       "      <td>0.835528</td>\n",
       "    </tr>\n",
       "    <tr>\n",
       "      <th>mean_test_score</th>\n",
       "      <td>0.824146</td>\n",
       "      <td>0.85584</td>\n",
       "      <td>0.854295</td>\n",
       "      <td>0.834324</td>\n",
       "    </tr>\n",
       "    <tr>\n",
       "      <th>std_test_score</th>\n",
       "      <td>0.00174088</td>\n",
       "      <td>0.00249776</td>\n",
       "      <td>0.00138917</td>\n",
       "      <td>0.00120375</td>\n",
       "    </tr>\n",
       "    <tr>\n",
       "      <th>rank_test_score</th>\n",
       "      <td>4</td>\n",
       "      <td>1</td>\n",
       "      <td>2</td>\n",
       "      <td>3</td>\n",
       "    </tr>\n",
       "    <tr>\n",
       "      <th>split0_train_score</th>\n",
       "      <td>0.839929</td>\n",
       "      <td>0.898818</td>\n",
       "      <td>0.961905</td>\n",
       "      <td>0.995767</td>\n",
       "    </tr>\n",
       "    <tr>\n",
       "      <th>split1_train_score</th>\n",
       "      <td>0.836345</td>\n",
       "      <td>0.897783</td>\n",
       "      <td>0.962714</td>\n",
       "      <td>0.995532</td>\n",
       "    </tr>\n",
       "    <tr>\n",
       "      <th>mean_train_score</th>\n",
       "      <td>0.838137</td>\n",
       "      <td>0.8983</td>\n",
       "      <td>0.96231</td>\n",
       "      <td>0.99565</td>\n",
       "    </tr>\n",
       "    <tr>\n",
       "      <th>std_train_score</th>\n",
       "      <td>0.00179173</td>\n",
       "      <td>0.00051726</td>\n",
       "      <td>0.00040437</td>\n",
       "      <td>0.000117426</td>\n",
       "    </tr>\n",
       "  </tbody>\n",
       "</table>\n",
       "</div>"
      ],
      "text/plain": [
       "                                  0                1               2  \\\n",
       "mean_fit_time               4.52723           4.7214         5.27817   \n",
       "std_fit_time              0.0523281        0.0609918        0.160951   \n",
       "mean_score_time             3.87599          4.32016         3.92311   \n",
       "std_score_time             0.049351        0.0719167        0.118296   \n",
       "param_clf__C                    0.1                1              10   \n",
       "params              {'clf__C': 0.1}  {'clf__C': 1.0}  {'clf__C': 10}   \n",
       "split0_test_score          0.822405         0.853342        0.852906   \n",
       "split1_test_score          0.825887         0.858338        0.855684   \n",
       "mean_test_score            0.824146          0.85584        0.854295   \n",
       "std_test_score           0.00174088       0.00249776      0.00138917   \n",
       "rank_test_score                   4                1               2   \n",
       "split0_train_score         0.839929         0.898818        0.961905   \n",
       "split1_train_score         0.836345         0.897783        0.962714   \n",
       "mean_train_score           0.838137           0.8983         0.96231   \n",
       "std_train_score          0.00179173       0.00051726      0.00040437   \n",
       "\n",
       "                                  3  \n",
       "mean_fit_time               6.23868  \n",
       "std_fit_time               0.230143  \n",
       "mean_score_time              3.7195  \n",
       "std_score_time             0.136401  \n",
       "param_clf__C                    100  \n",
       "params              {'clf__C': 100}  \n",
       "split0_test_score          0.833121  \n",
       "split1_test_score          0.835528  \n",
       "mean_test_score            0.834324  \n",
       "std_test_score           0.00120375  \n",
       "rank_test_score                   3  \n",
       "split0_train_score         0.995767  \n",
       "split1_train_score         0.995532  \n",
       "mean_train_score            0.99565  \n",
       "std_train_score         0.000117426  "
      ]
     },
     "metadata": {},
     "output_type": "display_data"
    }
   ],
   "source": [
    "results = pd.DataFrame(gs.cv_results_)\n",
    "display(results.T)"
   ]
  },
  {
   "cell_type": "markdown",
   "metadata": {},
   "source": [
    "### パラメータを絞ってgridsearch再実施"
   ]
  },
  {
   "cell_type": "code",
   "execution_count": 19,
   "metadata": {},
   "outputs": [],
   "source": [
    "param_grid = [{'clf__C':[0.8,2,3,4,5,6,7,8],'count__tokenizer':[tokenizer_mecab]}]\n",
    "gs2 = GridSearchCV(estimator=pipe_lr,\n",
    "                  param_grid=param_grid,return_train_score=True,\n",
    "                  scoring=None,\n",
    "                  cv=2)"
   ]
  },
  {
   "cell_type": "code",
   "execution_count": 20,
   "metadata": {},
   "outputs": [
    {
     "data": {
      "text/plain": [
       "GridSearchCV(cv=2, error_score='raise',\n",
       "       estimator=Pipeline(memory=None,\n",
       "     steps=[('count', CountVectorizer(analyzer='word', binary=False, decode_error='strict',\n",
       "        dtype=<class 'numpy.int64'>, encoding='utf-8', input='content',\n",
       "        lowercase=True, max_df=1.0, max_features=None, min_df=1,\n",
       "        ngram_range=(1, 1), preprocessor=None, stop_words=None,\n",
       "        stri...nalty='l2', random_state=1, solver='liblinear', tol=0.0001,\n",
       "          verbose=0, warm_start=False))]),\n",
       "       fit_params=None, iid=True, n_jobs=1,\n",
       "       param_grid=[{'clf__C': [0.8, 2, 3, 4, 5, 6, 7, 8], 'count__tokenizer': [<function tokenizer_mecab at 0x000001194A6E7AE8>]}],\n",
       "       pre_dispatch='2*n_jobs', refit=True, return_train_score=True,\n",
       "       scoring=None, verbose=0)"
      ]
     },
     "execution_count": 20,
     "metadata": {},
     "output_type": "execute_result"
    }
   ],
   "source": [
    "gs2.fit(X_train, y_train)"
   ]
  },
  {
   "cell_type": "code",
   "execution_count": 21,
   "metadata": {},
   "outputs": [
    {
     "name": "stdout",
     "output_type": "stream",
     "text": [
      "0.8591991669186066\n",
      "{'clf__C': 3, 'count__tokenizer': <function tokenizer_mecab at 0x000001194A6E7AE8>}\n"
     ]
    }
   ],
   "source": [
    "print(gs2.best_score_)\n",
    "print(gs2.best_params_)"
   ]
  },
  {
   "cell_type": "code",
   "execution_count": 22,
   "metadata": {},
   "outputs": [
    {
     "data": {
      "text/html": [
       "<div>\n",
       "<style scoped>\n",
       "    .dataframe tbody tr th:only-of-type {\n",
       "        vertical-align: middle;\n",
       "    }\n",
       "\n",
       "    .dataframe tbody tr th {\n",
       "        vertical-align: top;\n",
       "    }\n",
       "\n",
       "    .dataframe thead th {\n",
       "        text-align: right;\n",
       "    }\n",
       "</style>\n",
       "<table border=\"1\" class=\"dataframe\">\n",
       "  <thead>\n",
       "    <tr style=\"text-align: right;\">\n",
       "      <th></th>\n",
       "      <th>0</th>\n",
       "      <th>1</th>\n",
       "      <th>2</th>\n",
       "      <th>3</th>\n",
       "      <th>4</th>\n",
       "      <th>5</th>\n",
       "      <th>6</th>\n",
       "      <th>7</th>\n",
       "    </tr>\n",
       "  </thead>\n",
       "  <tbody>\n",
       "    <tr>\n",
       "      <th>mean_fit_time</th>\n",
       "      <td>4.51283</td>\n",
       "      <td>4.57682</td>\n",
       "      <td>4.45505</td>\n",
       "      <td>4.75465</td>\n",
       "      <td>4.75465</td>\n",
       "      <td>4.80127</td>\n",
       "      <td>4.95057</td>\n",
       "      <td>4.96768</td>\n",
       "    </tr>\n",
       "    <tr>\n",
       "      <th>std_fit_time</th>\n",
       "      <td>0.0508559</td>\n",
       "      <td>0.0270479</td>\n",
       "      <td>0.0327204</td>\n",
       "      <td>0.0952322</td>\n",
       "      <td>0.0431523</td>\n",
       "      <td>0.0287691</td>\n",
       "      <td>0.0763829</td>\n",
       "      <td>0.000248194</td>\n",
       "    </tr>\n",
       "    <tr>\n",
       "      <th>mean_score_time</th>\n",
       "      <td>3.61583</td>\n",
       "      <td>3.66221</td>\n",
       "      <td>3.70065</td>\n",
       "      <td>3.55756</td>\n",
       "      <td>3.90103</td>\n",
       "      <td>3.55631</td>\n",
       "      <td>3.79663</td>\n",
       "      <td>3.72497</td>\n",
       "    </tr>\n",
       "    <tr>\n",
       "      <th>std_score_time</th>\n",
       "      <td>0.0218232</td>\n",
       "      <td>0.118295</td>\n",
       "      <td>0.118048</td>\n",
       "      <td>0.00272834</td>\n",
       "      <td>0.2108</td>\n",
       "      <td>0.00595391</td>\n",
       "      <td>0.219977</td>\n",
       "      <td>0.0242877</td>\n",
       "    </tr>\n",
       "    <tr>\n",
       "      <th>param_clf__C</th>\n",
       "      <td>0.8</td>\n",
       "      <td>2</td>\n",
       "      <td>3</td>\n",
       "      <td>4</td>\n",
       "      <td>5</td>\n",
       "      <td>6</td>\n",
       "      <td>7</td>\n",
       "      <td>8</td>\n",
       "    </tr>\n",
       "    <tr>\n",
       "      <th>param_count__tokenizer</th>\n",
       "      <td>&lt;function tokenizer_mecab at 0x000001194A6E7AE8&gt;</td>\n",
       "      <td>&lt;function tokenizer_mecab at 0x000001194A6E7AE8&gt;</td>\n",
       "      <td>&lt;function tokenizer_mecab at 0x000001194A6E7AE8&gt;</td>\n",
       "      <td>&lt;function tokenizer_mecab at 0x000001194A6E7AE8&gt;</td>\n",
       "      <td>&lt;function tokenizer_mecab at 0x000001194A6E7AE8&gt;</td>\n",
       "      <td>&lt;function tokenizer_mecab at 0x000001194A6E7AE8&gt;</td>\n",
       "      <td>&lt;function tokenizer_mecab at 0x000001194A6E7AE8&gt;</td>\n",
       "      <td>&lt;function tokenizer_mecab at 0x000001194A6E7AE8&gt;</td>\n",
       "    </tr>\n",
       "    <tr>\n",
       "      <th>params</th>\n",
       "      <td>{'clf__C': 0.8, 'count__tokenizer': &lt;function ...</td>\n",
       "      <td>{'clf__C': 2, 'count__tokenizer': &lt;function to...</td>\n",
       "      <td>{'clf__C': 3, 'count__tokenizer': &lt;function to...</td>\n",
       "      <td>{'clf__C': 4, 'count__tokenizer': &lt;function to...</td>\n",
       "      <td>{'clf__C': 5, 'count__tokenizer': &lt;function to...</td>\n",
       "      <td>{'clf__C': 6, 'count__tokenizer': &lt;function to...</td>\n",
       "      <td>{'clf__C': 7, 'count__tokenizer': &lt;function to...</td>\n",
       "      <td>{'clf__C': 8, 'count__tokenizer': &lt;function to...</td>\n",
       "    </tr>\n",
       "    <tr>\n",
       "      <th>split0_test_score</th>\n",
       "      <td>0.852402</td>\n",
       "      <td>0.857205</td>\n",
       "      <td>0.857776</td>\n",
       "      <td>0.85697</td>\n",
       "      <td>0.856466</td>\n",
       "      <td>0.855727</td>\n",
       "      <td>0.855223</td>\n",
       "      <td>0.854316</td>\n",
       "    </tr>\n",
       "    <tr>\n",
       "      <th>split1_test_score</th>\n",
       "      <td>0.857464</td>\n",
       "      <td>0.860454</td>\n",
       "      <td>0.860622</td>\n",
       "      <td>0.859749</td>\n",
       "      <td>0.858741</td>\n",
       "      <td>0.858439</td>\n",
       "      <td>0.857733</td>\n",
       "      <td>0.857028</td>\n",
       "    </tr>\n",
       "    <tr>\n",
       "      <th>mean_test_score</th>\n",
       "      <td>0.854933</td>\n",
       "      <td>0.85883</td>\n",
       "      <td>0.859199</td>\n",
       "      <td>0.858359</td>\n",
       "      <td>0.857604</td>\n",
       "      <td>0.857083</td>\n",
       "      <td>0.856478</td>\n",
       "      <td>0.855672</td>\n",
       "    </tr>\n",
       "    <tr>\n",
       "      <th>std_test_score</th>\n",
       "      <td>0.00253132</td>\n",
       "      <td>0.00162447</td>\n",
       "      <td>0.00142293</td>\n",
       "      <td>0.00138931</td>\n",
       "      <td>0.00113734</td>\n",
       "      <td>0.00135567</td>\n",
       "      <td>0.00125488</td>\n",
       "      <td>0.00135563</td>\n",
       "    </tr>\n",
       "    <tr>\n",
       "      <th>rank_test_score</th>\n",
       "      <td>8</td>\n",
       "      <td>2</td>\n",
       "      <td>1</td>\n",
       "      <td>3</td>\n",
       "      <td>4</td>\n",
       "      <td>5</td>\n",
       "      <td>6</td>\n",
       "      <td>7</td>\n",
       "    </tr>\n",
       "    <tr>\n",
       "      <th>split0_train_score</th>\n",
       "      <td>0.89435</td>\n",
       "      <td>0.918335</td>\n",
       "      <td>0.928951</td>\n",
       "      <td>0.936442</td>\n",
       "      <td>0.942959</td>\n",
       "      <td>0.94783</td>\n",
       "      <td>0.952466</td>\n",
       "      <td>0.956094</td>\n",
       "    </tr>\n",
       "    <tr>\n",
       "      <th>split1_train_score</th>\n",
       "      <td>0.892173</td>\n",
       "      <td>0.9174</td>\n",
       "      <td>0.928519</td>\n",
       "      <td>0.937555</td>\n",
       "      <td>0.943567</td>\n",
       "      <td>0.948304</td>\n",
       "      <td>0.952704</td>\n",
       "      <td>0.956668</td>\n",
       "    </tr>\n",
       "    <tr>\n",
       "      <th>mean_train_score</th>\n",
       "      <td>0.893261</td>\n",
       "      <td>0.917868</td>\n",
       "      <td>0.928735</td>\n",
       "      <td>0.936998</td>\n",
       "      <td>0.943263</td>\n",
       "      <td>0.948067</td>\n",
       "      <td>0.952585</td>\n",
       "      <td>0.956381</td>\n",
       "    </tr>\n",
       "    <tr>\n",
       "      <th>std_train_score</th>\n",
       "      <td>0.00108815</td>\n",
       "      <td>0.000467529</td>\n",
       "      <td>0.000215954</td>\n",
       "      <td>0.000556384</td>\n",
       "      <td>0.000304234</td>\n",
       "      <td>0.000236888</td>\n",
       "      <td>0.000119165</td>\n",
       "      <td>0.000286997</td>\n",
       "    </tr>\n",
       "  </tbody>\n",
       "</table>\n",
       "</div>"
      ],
      "text/plain": [
       "                                                                        0  \\\n",
       "mean_fit_time                                                     4.51283   \n",
       "std_fit_time                                                    0.0508559   \n",
       "mean_score_time                                                   3.61583   \n",
       "std_score_time                                                  0.0218232   \n",
       "param_clf__C                                                          0.8   \n",
       "param_count__tokenizer   <function tokenizer_mecab at 0x000001194A6E7AE8>   \n",
       "params                  {'clf__C': 0.8, 'count__tokenizer': <function ...   \n",
       "split0_test_score                                                0.852402   \n",
       "split1_test_score                                                0.857464   \n",
       "mean_test_score                                                  0.854933   \n",
       "std_test_score                                                 0.00253132   \n",
       "rank_test_score                                                         8   \n",
       "split0_train_score                                                0.89435   \n",
       "split1_train_score                                               0.892173   \n",
       "mean_train_score                                                 0.893261   \n",
       "std_train_score                                                0.00108815   \n",
       "\n",
       "                                                                        1  \\\n",
       "mean_fit_time                                                     4.57682   \n",
       "std_fit_time                                                    0.0270479   \n",
       "mean_score_time                                                   3.66221   \n",
       "std_score_time                                                   0.118295   \n",
       "param_clf__C                                                            2   \n",
       "param_count__tokenizer   <function tokenizer_mecab at 0x000001194A6E7AE8>   \n",
       "params                  {'clf__C': 2, 'count__tokenizer': <function to...   \n",
       "split0_test_score                                                0.857205   \n",
       "split1_test_score                                                0.860454   \n",
       "mean_test_score                                                   0.85883   \n",
       "std_test_score                                                 0.00162447   \n",
       "rank_test_score                                                         2   \n",
       "split0_train_score                                               0.918335   \n",
       "split1_train_score                                                 0.9174   \n",
       "mean_train_score                                                 0.917868   \n",
       "std_train_score                                               0.000467529   \n",
       "\n",
       "                                                                        2  \\\n",
       "mean_fit_time                                                     4.45505   \n",
       "std_fit_time                                                    0.0327204   \n",
       "mean_score_time                                                   3.70065   \n",
       "std_score_time                                                   0.118048   \n",
       "param_clf__C                                                            3   \n",
       "param_count__tokenizer   <function tokenizer_mecab at 0x000001194A6E7AE8>   \n",
       "params                  {'clf__C': 3, 'count__tokenizer': <function to...   \n",
       "split0_test_score                                                0.857776   \n",
       "split1_test_score                                                0.860622   \n",
       "mean_test_score                                                  0.859199   \n",
       "std_test_score                                                 0.00142293   \n",
       "rank_test_score                                                         1   \n",
       "split0_train_score                                               0.928951   \n",
       "split1_train_score                                               0.928519   \n",
       "mean_train_score                                                 0.928735   \n",
       "std_train_score                                               0.000215954   \n",
       "\n",
       "                                                                        3  \\\n",
       "mean_fit_time                                                     4.75465   \n",
       "std_fit_time                                                    0.0952322   \n",
       "mean_score_time                                                   3.55756   \n",
       "std_score_time                                                 0.00272834   \n",
       "param_clf__C                                                            4   \n",
       "param_count__tokenizer   <function tokenizer_mecab at 0x000001194A6E7AE8>   \n",
       "params                  {'clf__C': 4, 'count__tokenizer': <function to...   \n",
       "split0_test_score                                                 0.85697   \n",
       "split1_test_score                                                0.859749   \n",
       "mean_test_score                                                  0.858359   \n",
       "std_test_score                                                 0.00138931   \n",
       "rank_test_score                                                         3   \n",
       "split0_train_score                                               0.936442   \n",
       "split1_train_score                                               0.937555   \n",
       "mean_train_score                                                 0.936998   \n",
       "std_train_score                                               0.000556384   \n",
       "\n",
       "                                                                        4  \\\n",
       "mean_fit_time                                                     4.75465   \n",
       "std_fit_time                                                    0.0431523   \n",
       "mean_score_time                                                   3.90103   \n",
       "std_score_time                                                     0.2108   \n",
       "param_clf__C                                                            5   \n",
       "param_count__tokenizer   <function tokenizer_mecab at 0x000001194A6E7AE8>   \n",
       "params                  {'clf__C': 5, 'count__tokenizer': <function to...   \n",
       "split0_test_score                                                0.856466   \n",
       "split1_test_score                                                0.858741   \n",
       "mean_test_score                                                  0.857604   \n",
       "std_test_score                                                 0.00113734   \n",
       "rank_test_score                                                         4   \n",
       "split0_train_score                                               0.942959   \n",
       "split1_train_score                                               0.943567   \n",
       "mean_train_score                                                 0.943263   \n",
       "std_train_score                                               0.000304234   \n",
       "\n",
       "                                                                        5  \\\n",
       "mean_fit_time                                                     4.80127   \n",
       "std_fit_time                                                    0.0287691   \n",
       "mean_score_time                                                   3.55631   \n",
       "std_score_time                                                 0.00595391   \n",
       "param_clf__C                                                            6   \n",
       "param_count__tokenizer   <function tokenizer_mecab at 0x000001194A6E7AE8>   \n",
       "params                  {'clf__C': 6, 'count__tokenizer': <function to...   \n",
       "split0_test_score                                                0.855727   \n",
       "split1_test_score                                                0.858439   \n",
       "mean_test_score                                                  0.857083   \n",
       "std_test_score                                                 0.00135567   \n",
       "rank_test_score                                                         5   \n",
       "split0_train_score                                                0.94783   \n",
       "split1_train_score                                               0.948304   \n",
       "mean_train_score                                                 0.948067   \n",
       "std_train_score                                               0.000236888   \n",
       "\n",
       "                                                                        6  \\\n",
       "mean_fit_time                                                     4.95057   \n",
       "std_fit_time                                                    0.0763829   \n",
       "mean_score_time                                                   3.79663   \n",
       "std_score_time                                                   0.219977   \n",
       "param_clf__C                                                            7   \n",
       "param_count__tokenizer   <function tokenizer_mecab at 0x000001194A6E7AE8>   \n",
       "params                  {'clf__C': 7, 'count__tokenizer': <function to...   \n",
       "split0_test_score                                                0.855223   \n",
       "split1_test_score                                                0.857733   \n",
       "mean_test_score                                                  0.856478   \n",
       "std_test_score                                                 0.00125488   \n",
       "rank_test_score                                                         6   \n",
       "split0_train_score                                               0.952466   \n",
       "split1_train_score                                               0.952704   \n",
       "mean_train_score                                                 0.952585   \n",
       "std_train_score                                               0.000119165   \n",
       "\n",
       "                                                                        7  \n",
       "mean_fit_time                                                     4.96768  \n",
       "std_fit_time                                                  0.000248194  \n",
       "mean_score_time                                                   3.72497  \n",
       "std_score_time                                                  0.0242877  \n",
       "param_clf__C                                                            8  \n",
       "param_count__tokenizer   <function tokenizer_mecab at 0x000001194A6E7AE8>  \n",
       "params                  {'clf__C': 8, 'count__tokenizer': <function to...  \n",
       "split0_test_score                                                0.854316  \n",
       "split1_test_score                                                0.857028  \n",
       "mean_test_score                                                  0.855672  \n",
       "std_test_score                                                 0.00135563  \n",
       "rank_test_score                                                         7  \n",
       "split0_train_score                                               0.956094  \n",
       "split1_train_score                                               0.956668  \n",
       "mean_train_score                                                 0.956381  \n",
       "std_train_score                                               0.000286997  "
      ]
     },
     "metadata": {},
     "output_type": "display_data"
    }
   ],
   "source": [
    "results = pd.DataFrame(gs2.cv_results_)\n",
    "display(results.T)"
   ]
  },
  {
   "cell_type": "code",
   "execution_count": 23,
   "metadata": {},
   "outputs": [],
   "source": [
    "#グリッドサーチで取得したパラメータを使用し、新たにパイプライン作成\n",
    "\n",
    "from sklearn.linear_model import LogisticRegression\n",
    "lr3 = LogisticRegression(random_state=1,C=3)\n",
    "\n",
    "from sklearn.pipeline import Pipeline\n",
    "pipe_lr3 = Pipeline([('count', count), \\\n",
    "                     ('vect', tfidf), \\\n",
    "                     ('clf', lr3)])"
   ]
  },
  {
   "cell_type": "code",
   "execution_count": 24,
   "metadata": {},
   "outputs": [
    {
     "data": {
      "text/plain": [
       "Pipeline(memory=None,\n",
       "     steps=[('count', CountVectorizer(analyzer='word', binary=False, decode_error='strict',\n",
       "        dtype=<class 'numpy.int64'>, encoding='utf-8', input='content',\n",
       "        lowercase=True, max_df=1.0, max_features=None, min_df=1,\n",
       "        ngram_range=(1, 1), preprocessor=None, stop_words=None,\n",
       "        stri...nalty='l2', random_state=1, solver='liblinear', tol=0.0001,\n",
       "          verbose=0, warm_start=False))])"
      ]
     },
     "execution_count": 24,
     "metadata": {},
     "output_type": "execute_result"
    }
   ],
   "source": [
    "pipe_lr3.fit(X_train, y_train)"
   ]
  },
  {
   "cell_type": "code",
   "execution_count": 25,
   "metadata": {},
   "outputs": [
    {
     "data": {
      "text/plain": [
       "Pipeline(memory=None,\n",
       "     steps=[('count', CountVectorizer(analyzer='word', binary=False, decode_error='strict',\n",
       "        dtype=<class 'numpy.int64'>, encoding='utf-8', input='content',\n",
       "        lowercase=True, max_df=1.0, max_features=None, min_df=1,\n",
       "        ngram_range=(1, 1), preprocessor=None, stop_words=None,\n",
       "        stri...nalty='l2', random_state=1, solver='liblinear', tol=0.0001,\n",
       "          verbose=0, warm_start=False))])"
      ]
     },
     "execution_count": 25,
     "metadata": {},
     "output_type": "execute_result"
    }
   ],
   "source": [
    "#性能検証用にtokenizerをjanomeに変更\n",
    "pipe_lr3.set_params(count__tokenizer=tokenizer_janome)"
   ]
  },
  {
   "cell_type": "code",
   "execution_count": 26,
   "metadata": {},
   "outputs": [
    {
     "name": "stdout",
     "output_type": "stream",
     "text": [
      "0.8621523579201935\n"
     ]
    }
   ],
   "source": [
    "print(pipe_lr3.score(X_test, y_test))"
   ]
  },
  {
   "cell_type": "code",
   "execution_count": 27,
   "metadata": {},
   "outputs": [
    {
     "name": "stdout",
     "output_type": "stream",
     "text": [
      "[[2140  630]\n",
      " [ 282 3564]]\n",
      "             precision    recall  f1-score   support\n",
      "\n",
      "        bad       0.88      0.77      0.82      2770\n",
      "       good       0.85      0.93      0.89      3846\n",
      "\n",
      "avg / total       0.86      0.86      0.86      6616\n",
      "\n"
     ]
    }
   ],
   "source": [
    "from sklearn.metrics import confusion_matrix, classification_report\n",
    "pred_y = pipe_lr3.predict(X_test)\n",
    "confusion = confusion_matrix(y_test, pred_y)\n",
    "cl_report = classification_report(y_test, pred_y, target_names=['bad', 'good'])\n",
    "print(confusion)\n",
    "print(cl_report)"
   ]
  },
  {
   "cell_type": "code",
   "execution_count": 29,
   "metadata": {},
   "outputs": [
    {
     "name": "stdout",
     "output_type": "stream",
     "text": [
      "0.8641172914147521\n"
     ]
    }
   ],
   "source": [
    "#比較用にtokenizerがmecabのままの場合の性能を評価\n",
    "pipe_lr3.set_params(count__tokenizer=tokenizer_mecab)\n",
    "print(pipe_lr3.score(X_test, y_test))"
   ]
  },
  {
   "cell_type": "code",
   "execution_count": 30,
   "metadata": {},
   "outputs": [
    {
     "name": "stdout",
     "output_type": "stream",
     "text": [
      "[[2275  495]\n",
      " [ 404 3442]]\n",
      "             precision    recall  f1-score   support\n",
      "\n",
      "        bad       0.85      0.82      0.84      2770\n",
      "       good       0.87      0.89      0.88      3846\n",
      "\n",
      "avg / total       0.86      0.86      0.86      6616\n",
      "\n"
     ]
    }
   ],
   "source": [
    "from sklearn.metrics import confusion_matrix, classification_report\n",
    "pred_y = pipe_lr3.predict(X_test)\n",
    "confusion = confusion_matrix(y_test, pred_y)\n",
    "cl_report = classification_report(y_test, pred_y, target_names=['bad', 'good'])\n",
    "print(confusion)\n",
    "print(cl_report)"
   ]
  },
  {
   "cell_type": "markdown",
   "metadata": {},
   "source": [
    "mecabのほうが性能はいいが、janomeに変更しても全く使えないほどの性能悪化は見られない"
   ]
  },
  {
   "cell_type": "markdown",
   "metadata": {},
   "source": [
    "## 学習曲線を描いて、現状分析"
   ]
  },
  {
   "cell_type": "code",
   "execution_count": 31,
   "metadata": {},
   "outputs": [
    {
     "data": {
      "image/png": "[encoded data removed]",
      "text/plain": [
       "<Figure size 432x288 with 1 Axes>"
      ]
     },
     "metadata": {},
     "output_type": "display_data"
    }
   ],
   "source": [
    "#C=3のときの学習曲線を描く\n",
    "\n",
    "from mlxtend.plotting import plot_learning_curves\n",
    "import matplotlib.pyplot as plt\n",
    "\n",
    "count4 = CountVectorizer(tokenizer=tokenizer_mecab)\n",
    "tfidf4 = TfidfTransformer(use_idf=True, norm='l2', smooth_idf=True)\n",
    "lr4 = LogisticRegression(random_state=1,C=3)\n",
    "pipe_lr4 = Pipeline([('count', count4), \\\n",
    "                    ('vect', tfidf4), \\\n",
    "                    ('clf', lr4)])\n",
    "plot_learning_curves(X_train, y_train, X_test, y_test, pipe_lr4)\n",
    "plt.show()"
   ]
  },
  {
   "cell_type": "markdown",
   "metadata": {},
   "source": [
    "## <font color=\"Red\">学習曲線の結果より、さらなるデータ収集が必要と判断</font>"
   ]
  },
  {
   "cell_type": "code",
   "execution_count": null,
   "metadata": {},
   "outputs": [],
   "source": []
  },
  {
   "cell_type": "code",
   "execution_count": null,
   "metadata": {},
   "outputs": [],
   "source": []
  },
  {
   "cell_type": "code",
   "execution_count": null,
   "metadata": {},
   "outputs": [],
   "source": []
  },
  {
   "cell_type": "markdown",
   "metadata": {},
   "source": [
    "### 以下はサンプルデータで適切に判断できているか実験（'0'=bad, '1'=good）"
   ]
  },
  {
   "cell_type": "code",
   "execution_count": 34,
   "metadata": {},
   "outputs": [
    {
     "data": {
      "text/plain": [
       "Pipeline(memory=None,\n",
       "     steps=[('count', CountVectorizer(analyzer='word', binary=False, decode_error='strict',\n",
       "        dtype=<class 'numpy.int64'>, encoding='utf-8', input='content',\n",
       "        lowercase=True, max_df=1.0, max_features=None, min_df=1,\n",
       "        ngram_range=(1, 1), preprocessor=None, stop_words=None,\n",
       "        stri...nalty='l2', random_state=1, solver='liblinear', tol=0.0001,\n",
       "          verbose=0, warm_start=False))])"
      ]
     },
     "execution_count": 34,
     "metadata": {},
     "output_type": "execute_result"
    }
   ],
   "source": [
    "pipe_lr3.set_params(count__tokenizer=tokenizer_mecab)"
   ]
  },
  {
   "cell_type": "code",
   "execution_count": 35,
   "metadata": {},
   "outputs": [
    {
     "data": {
      "text/plain": [
       "array([1, 1, 1, 1, 0, 0, 1, 1, 1, 1, 0, 0, 1, 1, 0])"
      ]
     },
     "execution_count": 35,
     "metadata": {},
     "output_type": "execute_result"
    }
   ],
   "source": [
    "pipe_lr3.predict(['好き','大好き','最高','楽しい','面白い','良い','爽快','傑作','感動','涙','笑える','笑い','何度も見たい','深い','上手'])"
   ]
  },
  {
   "cell_type": "code",
   "execution_count": 36,
   "metadata": {},
   "outputs": [
    {
     "data": {
      "text/plain": [
       "array([0, 1, 0, 0])"
      ]
     },
     "execution_count": 36,
     "metadata": {},
     "output_type": "execute_result"
    }
   ],
   "source": [
    "pipe_lr3.predict(['かわいい','かっこいい','天才的','美しい'])"
   ]
  },
  {
   "cell_type": "code",
   "execution_count": 37,
   "metadata": {},
   "outputs": [
    {
     "data": {
      "text/plain": [
       "array([0, 0, 0, 0, 0, 0, 0, 0, 0, 0, 0, 0])"
      ]
     },
     "execution_count": 37,
     "metadata": {},
     "output_type": "execute_result"
    }
   ],
   "source": [
    "pipe_lr3.predict(['ひどい','最低','最悪','嫌い','ダメ','駄作','つまらない','退屈','好きじゃない','見るに堪えない','下手','浅い'])"
   ]
  },
  {
   "cell_type": "code",
   "execution_count": 38,
   "metadata": {},
   "outputs": [
    {
     "data": {
      "text/plain": [
       "array([0, 0, 0, 0, 0, 0])"
      ]
     },
     "execution_count": 38,
     "metadata": {},
     "output_type": "execute_result"
    }
   ],
   "source": [
    "pipe_lr3.predict(['二度と見たくない','大根役者','くだらない','ありきたり','気分が悪くなる',''])"
   ]
  },
  {
   "cell_type": "code",
   "execution_count": null,
   "metadata": {},
   "outputs": [],
   "source": []
  },
  {
   "cell_type": "code",
   "execution_count": null,
   "metadata": {},
   "outputs": [],
   "source": []
  },
  {
   "cell_type": "code",
   "execution_count": null,
   "metadata": {},
   "outputs": [],
   "source": []
  },
  {
   "cell_type": "markdown",
   "metadata": {},
   "source": [
    "## 学習結果をpickleに出力"
   ]
  },
  {
   "cell_type": "code",
   "execution_count": 39,
   "metadata": {},
   "outputs": [],
   "source": [
    "#そのままpythonanywhereに上げると、tokenizerが見つからないとエラーになるため、一度Noneにする\n",
    "pipe_lr3.set_params(count__tokenizer=None)\n",
    "\n",
    "import pickle\n",
    "import os\n",
    "dest = os.path.join('.','pkl_objects')\n",
    "if not os.path.exists(dest):\n",
    "    os.makedirs(dest)\n",
    "pickle.dump(pipe_lr3,  \\\n",
    "            open(os.path.join(dest, 'pipe_lr3.pkl'), 'wb'), \\\n",
    "            protocol=4)"
   ]
  }
 ],
 "metadata": {
  "kernelspec": {
   "display_name": "Python 3",
   "language": "python",
   "name": "python3"
  },
  "language_info": {
   "codemirror_mode": {
    "name": "ipython",
    "version": 3
   },
   "file_extension": ".py",
   "mimetype": "text/x-python",
   "name": "python",
   "nbconvert_exporter": "python",
   "pygments_lexer": "ipython3",
   "version": "3.6.6"
  }
 },
 "nbformat": 4,
 "nbformat_minor": 2
}
