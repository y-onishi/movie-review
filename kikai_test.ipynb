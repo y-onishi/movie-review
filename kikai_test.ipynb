{
 "cells": [
  {
   "cell_type": "code",
   "execution_count": 1,
   "metadata": {},
   "outputs": [],
   "source": [
    "#import MeCab\n",
    "\n",
    "#def tokenizer(sentence):\n",
    "#    m = MeCab.Tagger(\"-Owakati\")\n",
    "#    kekka = m.parse(sentence)\n",
    "#    return kekka.split(\" \")\n",
    "\n",
    "#pythonanywhereにMeCabインストール方法が分からなかったため、janomeに変更"
   ]
  },
  {
   "cell_type": "code",
   "execution_count": 1,
   "metadata": {},
   "outputs": [],
   "source": [
    "from janome.tokenizer import Tokenizer\n",
    "\n",
    "def tokenizer(sentence):\n",
    "    t = Tokenizer()\n",
    "    return t.tokenize(sentence, wakati = True)"
   ]
  },
  {
   "cell_type": "code",
   "execution_count": 2,
   "metadata": {},
   "outputs": [],
   "source": [
    "import pandas as pd\n",
    "import numpy as np\n",
    "\n",
    "#csvファイルからデータ読み込み、加工\n",
    "review = pd.read_csv(\"data2010.csv\",names=('comment','star'))\n",
    "review = review[review['star'] != '-']\n",
    "review['star'] = np.where(review['star'].astype(float) > 3.8, 1, 0 )\n",
    "\n",
    "#「3.8」に設定すると、ちょうど半分に分かれる"
   ]
  },
  {
   "cell_type": "code",
   "execution_count": 3,
   "metadata": {},
   "outputs": [],
   "source": [
    "from sklearn.model_selection import train_test_split\n",
    "\n",
    "#訓練用とテスト用にデータを分ける\n",
    "X_train, X_test, y_train, y_test \\\n",
    "    = train_test_split(review['comment'].values, review['star'].values, \\\n",
    "    test_size=0.25, random_state=1, stratify=review['star'])"
   ]
  },
  {
   "cell_type": "code",
   "execution_count": 4,
   "metadata": {},
   "outputs": [],
   "source": [
    "from sklearn.feature_extraction.text import  CountVectorizer, TfidfTransformer\n",
    "\n",
    "#ベクトルの準備\n",
    "count = CountVectorizer(tokenizer=tokenizer)\n",
    "tfidf = TfidfTransformer(use_idf=True, norm='l2', smooth_idf=True)"
   ]
  },
  {
   "cell_type": "code",
   "execution_count": 14,
   "metadata": {},
   "outputs": [],
   "source": [
    "from sklearn.ensemble import RandomForestClassifier\n",
    "from numpy.core.umath_tests import inner1d\n",
    "\n",
    "#classifierの準備\n",
    "#ランダムフォレスト\n",
    "#調整要  n_estimators(大きいほど良い)\n",
    "#        max_features(n_featuresぐらい)\n",
    "#        max_depth (<5ぐらい、あまり影響なし)\n",
    "forest = RandomForestClassifier(criterion='gini', n_jobs=2, random_state=1)"
   ]
  },
  {
   "cell_type": "code",
   "execution_count": 6,
   "metadata": {},
   "outputs": [],
   "source": [
    "from sklearn.pipeline import Pipeline\n",
    "\n",
    "#パイプライン作成\n",
    "pipe_forest = Pipeline([('count', count), \\\n",
    "                        ('vect', tfidf), \\\n",
    "                        ('clf', forest)])"
   ]
  },
  {
   "cell_type": "code",
   "execution_count": 13,
   "metadata": {},
   "outputs": [
    {
     "data": {
      "text/plain": [
       "dict_keys(['memory', 'steps', 'vect', 'clf', 'vect__norm', 'vect__smooth_idf', 'vect__sublinear_tf', 'vect__use_idf', 'clf__bootstrap', 'clf__class_weight', 'clf__criterion', 'clf__max_depth', 'clf__max_features', 'clf__max_leaf_nodes', 'clf__min_impurity_decrease', 'clf__min_impurity_split', 'clf__min_samples_leaf', 'clf__min_samples_split', 'clf__min_weight_fraction_leaf', 'clf__n_estimators', 'clf__n_jobs', 'clf__oob_score', 'clf__random_state', 'clf__verbose', 'clf__warm_start'])"
      ]
     },
     "execution_count": 13,
     "metadata": {},
     "output_type": "execute_result"
    }
   ],
   "source": [
    "#グリッドサーチ用のキー名を検索\n",
    "pipe_forest.get_params().keys()"
   ]
  },
  {
   "cell_type": "code",
   "execution_count": 80,
   "metadata": {},
   "outputs": [],
   "source": [
    "from sklearn.model_selection import GridSearchCV\n",
    "\n",
    "#グリッドサーチ作成\n",
    "param_grid = [{'clf__max_depth':[50,60,70,80],\n",
    "               'clf__n_estimators':[10,50,100]}]\n",
    "gs = GridSearchCV(estimator=pipe_forest,\n",
    "                  param_grid=param_grid,\n",
    "                  cv=2)"
   ]
  },
  {
   "cell_type": "code",
   "execution_count": 81,
   "metadata": {},
   "outputs": [],
   "source": [
    "これを流すと時間がかかるので、普段の調査は以下のforest2を使用して調査すること\n",
    "\n",
    "#from sklearn.model_selection import cross_val_score\n",
    "#scores = cross_val_score(estimator=gs, X=X_train, y=y_train, cv=5)"
   ]
  },
  {
   "cell_type": "code",
   "execution_count": 82,
   "metadata": {},
   "outputs": [
    {
     "name": "stdout",
     "output_type": "stream",
     "text": [
      "[0.70799347 0.69004894 0.69168026 0.69820555 0.70751634]\n"
     ]
    }
   ],
   "source": [
    "print(scores)"
   ]
  },
  {
   "cell_type": "markdown",
   "metadata": {},
   "source": [
    "グリッドサーチは時間がかかる。    \n",
    "ちょっとした調査は↓で実行する。"
   ]
  },
  {
   "cell_type": "code",
   "execution_count": 7,
   "metadata": {},
   "outputs": [],
   "source": [
    "from sklearn.pipeline import Pipeline\n",
    "forest2 = RandomForestClassifier(criterion='gini', n_jobs=-1, random_state=1, n_estimators=10, max_depth=5, max_features=10)\n",
    "\n",
    "#パイプライン作成\n",
    "pipe_forest2 = Pipeline([('count', count), \\\n",
    "                         ('vect', tfidf), \\\n",
    "                         ('clf', forest2)])"
   ]
  },
  {
   "cell_type": "code",
   "execution_count": 238,
   "metadata": {},
   "outputs": [
    {
     "name": "stdout",
     "output_type": "stream",
     "text": [
      "0.5557461406518011\n",
      "0.5568896512292739\n"
     ]
    }
   ],
   "source": [
    "pipe_forest2.fit(X_train, y_train)\n",
    "print(pipe_forest2.score(X_test, y_test))\n",
    "print(pipe_forest2.score(X_train, y_train))"
   ]
  },
  {
   "cell_type": "code",
   "execution_count": 301,
   "metadata": {},
   "outputs": [],
   "source": [
    "from sklearn.linear_model import LogisticRegression\n",
    "lr2 = LogisticRegression(C=0.1,random_state=1)\n",
    "#3.8以上にすると、C-0.1あたりがいい性能をだせる\n",
    "\n",
    "#パイプライン作成\n",
    "pipe_lr2 = Pipeline([('count', count), \\\n",
    "                     ('vect', tfidf), \\\n",
    "                     ('clf', lr2)])"
   ]
  },
  {
   "cell_type": "code",
   "execution_count": 302,
   "metadata": {},
   "outputs": [
    {
     "name": "stdout",
     "output_type": "stream",
     "text": [
      "0.6166380789022299\n",
      "0.6626643796455117\n"
     ]
    }
   ],
   "source": [
    "pipe_lr2.fit(X_train, y_train)\n",
    "print(pipe_lr2.score(X_test, y_test))\n",
    "print(pipe_lr2.score(X_train, y_train))"
   ]
  },
  {
   "cell_type": "code",
   "execution_count": 247,
   "metadata": {},
   "outputs": [],
   "source": [
    "from sklearn.svm import SVC\n",
    "svm = SVC(kernel='linear', C=0.3, random_state=1)\n",
    "\n",
    "#パイプライン作成\n",
    "pipe_svm = Pipeline([('count', count), \\\n",
    "                     ('vect', tfidf), \\\n",
    "                     ('clf', svm)])"
   ]
  },
  {
   "cell_type": "code",
   "execution_count": 248,
   "metadata": {},
   "outputs": [
    {
     "name": "stdout",
     "output_type": "stream",
     "text": [
      "0.6783876500857633\n",
      "0.7790165809033733\n"
     ]
    }
   ],
   "source": [
    "pipe_svm.fit(X_train, y_train)\n",
    "print(pipe_svm.score(X_test, y_test))\n",
    "print(pipe_svm.score(X_train, y_train))"
   ]
  },
  {
   "cell_type": "code",
   "execution_count": 273,
   "metadata": {},
   "outputs": [],
   "source": [
    "from sklearn.neural_network import MLPClassifier\n",
    "mlp = MLPClassifier(solver='lbfgs', random_state=0, hidden_layer_sizes=[10,10], alpha=18.1)\n",
    "#3.8以上のデータは、alpha=30で設定すると\n",
    "\n",
    "#mlp = MLPClassifier(solver='lbfgs', random_state=0, hidden_layer_sizes=[2])\n",
    "\n",
    "#パイプライン作成\n",
    "pipe_mlp = Pipeline([('count', count), \\\n",
    "                     ('vect', tfidf), \\\n",
    "                     ('clf', mlp)])"
   ]
  },
  {
   "cell_type": "code",
   "execution_count": 274,
   "metadata": {},
   "outputs": [
    {
     "name": "stdout",
     "output_type": "stream",
     "text": [
      "0.9997141223556318\n",
      "0.6329331046312179\n"
     ]
    }
   ],
   "source": [
    "pipe_mlp.fit(X_train, y_train)\n",
    "print(pipe_mlp.score(X_train, y_train))\n",
    "print(pipe_mlp.score(X_test, y_test))"
   ]
  },
  {
   "cell_type": "markdown",
   "metadata": {},
   "source": [
    "ここから下は、いろいろテスト用"
   ]
  },
  {
   "cell_type": "code",
   "execution_count": 236,
   "metadata": {},
   "outputs": [
    {
     "name": "stdout",
     "output_type": "stream",
     "text": [
      "train:0.5563178959405375\n",
      "test:0.5557461406518011\n"
     ]
    }
   ],
   "source": [
    "a = np.bincount(y_train)\n",
    "print(\"train:{}\".format(a[0]/a.sum()))\n",
    "b = np.bincount(y_test)\n",
    "print(\"test:{}\".format(b[0]/b.sum()))"
   ]
  }
 ],
 "metadata": {
  "kernelspec": {
   "display_name": "Python 3",
   "language": "python",
   "name": "python3"
  },
  "language_info": {
   "codemirror_mode": {
    "name": "ipython",
    "version": 3
   },
   "file_extension": ".py",
   "mimetype": "text/x-python",
   "name": "python",
   "nbconvert_exporter": "python",
   "pygments_lexer": "ipython3",
   "version": "3.6.6"
  }
 },
 "nbformat": 4,
 "nbformat_minor": 2
}
